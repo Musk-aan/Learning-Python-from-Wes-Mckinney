{
 "cells": [
  {
   "cell_type": "code",
   "execution_count": 1,
   "metadata": {},
   "outputs": [],
   "source": [
    "import numpy as np"
   ]
  },
  {
   "cell_type": "code",
   "execution_count": 9,
   "metadata": {},
   "outputs": [],
   "source": [
    "taxi = np.loadtxt('nyc_taxis.csv', delimiter=\",\", dtype=str)"
   ]
  },
  {
   "cell_type": "code",
   "execution_count": 10,
   "metadata": {},
   "outputs": [
    {
     "data": {
      "text/plain": [
       "array([['pickup_year', 'pickup_month', 'pickup_day', ..., 'tip_amount',\n",
       "        'total_amount', 'payment_type'],\n",
       "       ['2016', '1', '1', ..., '11.65', '69.99', '1'],\n",
       "       ['2016', '1', '1', ..., '8.00', '54.30', '1'],\n",
       "       ...,\n",
       "       ['2016', '6', '30', ..., '5.00', '63.34', '1'],\n",
       "       ['2016', '6', '30', ..., '8.95', '44.75', '1'],\n",
       "       ['2016', '6', '30', ..., '0.00', '54.84', '2']], dtype='<U21')"
      ]
     },
     "execution_count": 10,
     "metadata": {},
     "output_type": "execute_result"
    }
   ],
   "source": [
    "taxi"
   ]
  },
  {
   "cell_type": "code",
   "execution_count": 15,
   "metadata": {},
   "outputs": [],
   "source": [
    "# Calculating the mean\n",
    "speed = taxi[:, 7]"
   ]
  },
  {
   "cell_type": "code",
   "execution_count": null,
   "metadata": {},
   "outputs": [],
   "source": []
  }
 ],
 "metadata": {
  "kernelspec": {
   "display_name": "Python 3",
   "language": "python",
   "name": "python3"
  },
  "language_info": {
   "codemirror_mode": {
    "name": "ipython",
    "version": 3
   },
   "file_extension": ".py",
   "mimetype": "text/x-python",
   "name": "python",
   "nbconvert_exporter": "python",
   "pygments_lexer": "ipython3",
   "version": "3.12.3"
  }
 },
 "nbformat": 4,
 "nbformat_minor": 2
}
